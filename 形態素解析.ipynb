{
 "cells": [
  {
   "cell_type": "code",
   "execution_count": 2,
   "metadata": {},
   "outputs": [
    {
     "name": "stdout",
     "output_type": "stream",
     "text": [
      "['私', 'ワタクシ', 'ワタクシ', '私-代名詞', '代名詞', '0', '達', 'タチ', 'タチ', '達', '接尾辞-名詞的-一般', 'は', 'ワ', 'ハ', 'は', '助詞-係助詞', '人工', 'ジンコー', 'ジンコウ', '人工', '名詞-普通名詞-一般', '0', '知能', 'チノー', 'チノウ', '知能', '名詞-普通名詞-一般', '1', 'を', 'オ', 'ヲ', 'を', '助詞-格助詞', '作る', 'ツクル', 'ツクル', '作る', '動詞-一般', '五段-ラ行', '連体形-一般', '2', 'ため', 'タメ', 'タメ', '為', '名詞-普通名詞-副詞可能', '2', 'に', 'ニ', 'ニ', 'に', '助詞-格助詞', '勉強', 'ベンキョー', 'ベンキョウ', '勉強', '名詞-普通名詞-サ変可能', '0', 'する', 'スル', 'スル', '為る', '動詞-非自立可能', 'サ行変格', '終止形-一般', '0', 'EOS']\n"
     ]
    }
   ],
   "source": [
    "import MeCab\n",
    "\n",
    "mecab = MeCab.Tagger()\n",
    "print(mecab.parse(\"私達は人工知能を作るために勉強する\").split())"
   ]
  },
  {
   "cell_type": "code",
   "execution_count": 3,
   "metadata": {},
   "outputs": [
    {
     "name": "stdout",
     "output_type": "stream",
     "text": [
      "['ぱん', 'パン', 'パン', 'ぱん', '副詞', '1', 'ちょ', 'チョ', 'チョット', '一寸', '副詞', '1', '適当', 'テキトー', 'テキトウ', '適当', '名詞-普通名詞-サ変形状詞可能', '0', 'な', 'ナ', 'ダ', 'だ', '助動詞', '助動詞-ダ', '連体形-一般', '文章', 'ブンショー', 'ブンショウ', '文章', '名詞-普通名詞-一般', '1', 'を', 'オ', 'ヲ', 'を', '助詞-格助詞', '考え', 'カンガエ', 'カンガエル', '考える', '動詞-一般', '下一段-ア行', '連用形-一般', '3,4', 'て', 'テ', 'テ', 'て', '助詞-接続助詞', 'EOS']\n"
     ]
    }
   ],
   "source": [
    "import MeCab\n",
    "\n",
    "mecab = MeCab.Tagger()\n",
    "print(mecab.parse(\"ぱんちょ適当な文章を考えて\").split())"
   ]
  }
 ],
 "metadata": {
  "kernelspec": {
   "display_name": "Python 3",
   "language": "python",
   "name": "python3"
  },
  "language_info": {
   "codemirror_mode": {
    "name": "ipython",
    "version": 3
   },
   "file_extension": ".py",
   "mimetype": "text/x-python",
   "name": "python",
   "nbconvert_exporter": "python",
   "pygments_lexer": "ipython3",
   "version": "3.12.3"
  }
 },
 "nbformat": 4,
 "nbformat_minor": 2
}
